{
 "cells": [
  {
   "cell_type": "code",
   "execution_count": 1,
   "id": "b747dc31-3280-492d-aab7-e3f02401a4d3",
   "metadata": {},
   "outputs": [],
   "source": [
    "import pyvisa as vi"
   ]
  },
  {
   "cell_type": "code",
   "execution_count": 2,
   "id": "a0eb3bce-5768-4f81-ae63-fc671cc7394b",
   "metadata": {},
   "outputs": [],
   "source": [
    "import sys\n",
    "import matplotlib.pyplot as plt\n",
    "from importlib import reload\n",
    "reload(sys)\n",
    "import time\n",
    "#sys.setdefaultencoding('utf8')\n",
    "#sys.setdefaultencoding(\"utf-8\")"
   ]
  },
  {
   "cell_type": "code",
   "execution_count": null,
   "id": "e0267761-5836-4571-bdf6-ce46e78b1c3f",
   "metadata": {},
   "outputs": [],
   "source": []
  },
  {
   "cell_type": "code",
   "execution_count": null,
   "id": "1fc433b7-9a66-4c23-8f9e-508ccb2fe100",
   "metadata": {},
   "outputs": [],
   "source": []
  },
  {
   "cell_type": "code",
   "execution_count": null,
   "id": "b8d2d67d-f2fc-491f-8671-699c61fdfa81",
   "metadata": {},
   "outputs": [],
   "source": []
  },
  {
   "cell_type": "code",
   "execution_count": 3,
   "id": "a0d36df0-5215-4892-9623-aee9427f495e",
   "metadata": {},
   "outputs": [
    {
     "name": "stdout",
     "output_type": "stream",
     "text": [
      "('USB0::0xF4EC::0xEE3A::T0101C20360610::INSTR', 'TCPIP0::172.16.23.200::DSO::INSTR', 'TCPIP0::172.16.1.10::inst0::INSTR', 'TCPIP0::rssgs100a114245::hislip0::INSTR', 'TCPIP0::rssgs100a114245::inst0::INSTR', 'ASRL1::INSTR')\n"
     ]
    }
   ],
   "source": [
    "rm = vi.ResourceManager()\n",
    "print(rm.list_resources())"
   ]
  },
  {
   "cell_type": "code",
   "execution_count": 4,
   "id": "e438206a-2e35-462f-8f3a-1b617e821d2d",
   "metadata": {},
   "outputs": [
    {
     "name": "stdout",
     "output_type": "stream",
     "text": [
      "*IDN  ,T3DSO2304,T0101C20360610,1.2.2.2 R19\n",
      "\n"
     ]
    }
   ],
   "source": [
    "dso = rm.open_resource(\"USB0::0xF4EC::0xEE3A::T0101C20360610::INSTR\")\n",
    "print(dso.query(\"*IDN?\"))"
   ]
  },
  {
   "cell_type": "code",
   "execution_count": 5,
   "id": "91966991-f895-4815-a6e2-27ba704bdc4b",
   "metadata": {},
   "outputs": [
    {
     "name": "stdout",
     "output_type": "stream",
     "text": [
      "C1:VDIV 5.00E-01V\n",
      "\n",
      "C1:OFST -1.48E+00V\n",
      "\n",
      "TDIV 1.00E-04S\n",
      "\n",
      "SARA 1.00GSa/s\n",
      "\n"
     ]
    }
   ],
   "source": [
    "vdiv = dso.query(\"c1:vdiv?\")\n",
    "print(vdiv)\n",
    "ofst = dso.query(\"c1:ofst?\")\n",
    "print(ofst)\n",
    "tdiv = dso.query(\"tdiv?\")\n",
    "print(tdiv)\n",
    "sara = dso.query(\"sara?\")\n",
    "print(sara)"
   ]
  },
  {
   "cell_type": "code",
   "execution_count": 10,
   "id": "eefc833d-6229-4bce-b5de-1e29ea9f8b59",
   "metadata": {
    "tags": []
   },
   "outputs": [
    {
     "ename": "VisaIOError",
     "evalue": "VI_ERROR_INP_PROT_VIOL (-1073807305): Device reported an input protocol error during transfer.",
     "output_type": "error",
     "traceback": [
      "\u001b[1;31m---------------------------------------------------------------------------\u001b[0m",
      "\u001b[1;31mVisaIOError\u001b[0m                               Traceback (most recent call last)",
      "\u001b[1;32m<timed exec>\u001b[0m in \u001b[0;36m<module>\u001b[1;34m\u001b[0m\n",
      "\u001b[1;32m~\\anaconda3\\lib\\site-packages\\pyvisa\\resources\\messagebased.py\u001b[0m in \u001b[0;36mread_raw\u001b[1;34m(self, size)\u001b[0m\n\u001b[0;32m    403\u001b[0m \u001b[1;33m\u001b[0m\u001b[0m\n\u001b[0;32m    404\u001b[0m         \"\"\"\n\u001b[1;32m--> 405\u001b[1;33m         \u001b[1;32mreturn\u001b[0m \u001b[0mbytes\u001b[0m\u001b[1;33m(\u001b[0m\u001b[0mself\u001b[0m\u001b[1;33m.\u001b[0m\u001b[0m_read_raw\u001b[0m\u001b[1;33m(\u001b[0m\u001b[0msize\u001b[0m\u001b[1;33m)\u001b[0m\u001b[1;33m)\u001b[0m\u001b[1;33m\u001b[0m\u001b[1;33m\u001b[0m\u001b[0m\n\u001b[0m\u001b[0;32m    406\u001b[0m \u001b[1;33m\u001b[0m\u001b[0m\n\u001b[0;32m    407\u001b[0m     \u001b[1;32mdef\u001b[0m \u001b[0m_read_raw\u001b[0m\u001b[1;33m(\u001b[0m\u001b[0mself\u001b[0m\u001b[1;33m,\u001b[0m \u001b[0msize\u001b[0m\u001b[1;33m:\u001b[0m \u001b[0mOptional\u001b[0m\u001b[1;33m[\u001b[0m\u001b[0mint\u001b[0m\u001b[1;33m]\u001b[0m \u001b[1;33m=\u001b[0m \u001b[1;32mNone\u001b[0m\u001b[1;33m)\u001b[0m\u001b[1;33m:\u001b[0m\u001b[1;33m\u001b[0m\u001b[1;33m\u001b[0m\u001b[0m\n",
      "\u001b[1;32m~\\anaconda3\\lib\\site-packages\\pyvisa\\resources\\messagebased.py\u001b[0m in \u001b[0;36m_read_raw\u001b[1;34m(self, size)\u001b[0m\n\u001b[0;32m    440\u001b[0m                         \u001b[0mstatus\u001b[0m\u001b[1;33m,\u001b[0m\u001b[1;33m\u001b[0m\u001b[1;33m\u001b[0m\u001b[0m\n\u001b[0;32m    441\u001b[0m                     )\n\u001b[1;32m--> 442\u001b[1;33m                     \u001b[0mchunk\u001b[0m\u001b[1;33m,\u001b[0m \u001b[0mstatus\u001b[0m \u001b[1;33m=\u001b[0m \u001b[0mself\u001b[0m\u001b[1;33m.\u001b[0m\u001b[0mvisalib\u001b[0m\u001b[1;33m.\u001b[0m\u001b[0mread\u001b[0m\u001b[1;33m(\u001b[0m\u001b[0mself\u001b[0m\u001b[1;33m.\u001b[0m\u001b[0msession\u001b[0m\u001b[1;33m,\u001b[0m \u001b[0msize\u001b[0m\u001b[1;33m)\u001b[0m\u001b[1;33m\u001b[0m\u001b[1;33m\u001b[0m\u001b[0m\n\u001b[0m\u001b[0;32m    443\u001b[0m                     \u001b[0mret\u001b[0m\u001b[1;33m.\u001b[0m\u001b[0mextend\u001b[0m\u001b[1;33m(\u001b[0m\u001b[0mchunk\u001b[0m\u001b[1;33m)\u001b[0m\u001b[1;33m\u001b[0m\u001b[1;33m\u001b[0m\u001b[0m\n\u001b[0;32m    444\u001b[0m             \u001b[1;32mexcept\u001b[0m \u001b[0merrors\u001b[0m\u001b[1;33m.\u001b[0m\u001b[0mVisaIOError\u001b[0m \u001b[1;32mas\u001b[0m \u001b[0me\u001b[0m\u001b[1;33m:\u001b[0m\u001b[1;33m\u001b[0m\u001b[1;33m\u001b[0m\u001b[0m\n",
      "\u001b[1;32m~\\anaconda3\\lib\\site-packages\\pyvisa\\ctwrapper\\functions.py\u001b[0m in \u001b[0;36mread\u001b[1;34m(library, session, count)\u001b[0m\n\u001b[0;32m   2335\u001b[0m     \u001b[0mbuffer\u001b[0m \u001b[1;33m=\u001b[0m \u001b[0mcreate_string_buffer\u001b[0m\u001b[1;33m(\u001b[0m\u001b[0mcount\u001b[0m\u001b[1;33m)\u001b[0m\u001b[1;33m\u001b[0m\u001b[1;33m\u001b[0m\u001b[0m\n\u001b[0;32m   2336\u001b[0m     \u001b[0mreturn_count\u001b[0m \u001b[1;33m=\u001b[0m \u001b[0mViUInt32\u001b[0m\u001b[1;33m(\u001b[0m\u001b[1;33m)\u001b[0m\u001b[1;33m\u001b[0m\u001b[1;33m\u001b[0m\u001b[0m\n\u001b[1;32m-> 2337\u001b[1;33m     \u001b[0mret\u001b[0m \u001b[1;33m=\u001b[0m \u001b[0mlibrary\u001b[0m\u001b[1;33m.\u001b[0m\u001b[0mviRead\u001b[0m\u001b[1;33m(\u001b[0m\u001b[0msession\u001b[0m\u001b[1;33m,\u001b[0m \u001b[0mbuffer\u001b[0m\u001b[1;33m,\u001b[0m \u001b[0mcount\u001b[0m\u001b[1;33m,\u001b[0m \u001b[0mbyref\u001b[0m\u001b[1;33m(\u001b[0m\u001b[0mreturn_count\u001b[0m\u001b[1;33m)\u001b[0m\u001b[1;33m)\u001b[0m\u001b[1;33m\u001b[0m\u001b[1;33m\u001b[0m\u001b[0m\n\u001b[0m\u001b[0;32m   2338\u001b[0m     \u001b[1;32mreturn\u001b[0m \u001b[0mbuffer\u001b[0m\u001b[1;33m.\u001b[0m\u001b[0mraw\u001b[0m\u001b[1;33m[\u001b[0m\u001b[1;33m:\u001b[0m \u001b[0mreturn_count\u001b[0m\u001b[1;33m.\u001b[0m\u001b[0mvalue\u001b[0m\u001b[1;33m]\u001b[0m\u001b[1;33m,\u001b[0m \u001b[0mret\u001b[0m\u001b[1;33m\u001b[0m\u001b[1;33m\u001b[0m\u001b[0m\n\u001b[0;32m   2339\u001b[0m \u001b[1;33m\u001b[0m\u001b[0m\n",
      "\u001b[1;32m~\\anaconda3\\lib\\site-packages\\pyvisa\\ctwrapper\\highlevel.py\u001b[0m in \u001b[0;36m_return_handler\u001b[1;34m(self, ret_value, func, arguments)\u001b[0m\n\u001b[0;32m    224\u001b[0m                 \u001b[0msession\u001b[0m \u001b[1;33m=\u001b[0m \u001b[1;32mNone\u001b[0m\u001b[1;33m\u001b[0m\u001b[1;33m\u001b[0m\u001b[0m\n\u001b[0;32m    225\u001b[0m \u001b[1;33m\u001b[0m\u001b[0m\n\u001b[1;32m--> 226\u001b[1;33m         \u001b[1;32mreturn\u001b[0m \u001b[0mself\u001b[0m\u001b[1;33m.\u001b[0m\u001b[0mhandle_return_value\u001b[0m\u001b[1;33m(\u001b[0m\u001b[0msession\u001b[0m\u001b[1;33m,\u001b[0m \u001b[0mret_value\u001b[0m\u001b[1;33m)\u001b[0m  \u001b[1;31m# type: ignore\u001b[0m\u001b[1;33m\u001b[0m\u001b[1;33m\u001b[0m\u001b[0m\n\u001b[0m\u001b[0;32m    227\u001b[0m \u001b[1;33m\u001b[0m\u001b[0m\n\u001b[0;32m    228\u001b[0m     def list_resources(\n",
      "\u001b[1;32m~\\anaconda3\\lib\\site-packages\\pyvisa\\highlevel.py\u001b[0m in \u001b[0;36mhandle_return_value\u001b[1;34m(self, session, status_code)\u001b[0m\n\u001b[0;32m    249\u001b[0m \u001b[1;33m\u001b[0m\u001b[0m\n\u001b[0;32m    250\u001b[0m         \u001b[1;32mif\u001b[0m \u001b[0mrv\u001b[0m \u001b[1;33m<\u001b[0m \u001b[1;36m0\u001b[0m\u001b[1;33m:\u001b[0m\u001b[1;33m\u001b[0m\u001b[1;33m\u001b[0m\u001b[0m\n\u001b[1;32m--> 251\u001b[1;33m             \u001b[1;32mraise\u001b[0m \u001b[0merrors\u001b[0m\u001b[1;33m.\u001b[0m\u001b[0mVisaIOError\u001b[0m\u001b[1;33m(\u001b[0m\u001b[0mrv\u001b[0m\u001b[1;33m)\u001b[0m\u001b[1;33m\u001b[0m\u001b[1;33m\u001b[0m\u001b[0m\n\u001b[0m\u001b[0;32m    252\u001b[0m \u001b[1;33m\u001b[0m\u001b[0m\n\u001b[0;32m    253\u001b[0m         \u001b[1;32mif\u001b[0m \u001b[0mrv\u001b[0m \u001b[1;32min\u001b[0m \u001b[0mself\u001b[0m\u001b[1;33m.\u001b[0m\u001b[0missue_warning_on\u001b[0m\u001b[1;33m:\u001b[0m\u001b[1;33m\u001b[0m\u001b[1;33m\u001b[0m\u001b[0m\n",
      "\u001b[1;31mVisaIOError\u001b[0m: VI_ERROR_INP_PROT_VIOL (-1073807305): Device reported an input protocol error during transfer."
     ]
    }
   ],
   "source": [
    "%%time\n",
    "\n",
    "dso.timeout = 30000 #default value is 2000(2s)\n",
    "dso.chunk_size = 20*1024*1024 #default value is 20*1024(20k bytes)\n",
    "dso.write(\"TRMD SINGLE\")\n",
    "\n",
    "dso.write(\"c1:wf?\")\n",
    "\n",
    "recv = list(dso.read_raw())[400:]\n",
    "#recv.pop()\n",
    "#recv.pop()"
   ]
  },
  {
   "cell_type": "code",
   "execution_count": null,
   "id": "a25d89e9-750b-4aaf-b444-2c2dd8280a61",
   "metadata": {},
   "outputs": [],
   "source": []
  },
  {
   "cell_type": "code",
   "execution_count": 55,
   "id": "a7e419a8-2ebe-4f6f-919f-0f5b387cb076",
   "metadata": {},
   "outputs": [
    {
     "name": "stdout",
     "output_type": "stream",
     "text": [
      "Wall time: 530 ms\n"
     ]
    },
    {
     "data": {
      "image/png": "[encoded data removed]",
      "text/plain": [
       "<Figure size 640x480 with 1 Axes>"
      ]
     },
     "metadata": {},
     "output_type": "display_data"
    }
   ],
   "source": [
    "%%time\n",
    "\n",
    "volt_value = []\n",
    "for data in recv:\n",
    "    if data > 127:\n",
    "        data = data - 255\n",
    "    else:\n",
    "        pass\n",
    "    volt_value.append(data)\n",
    "time_value = []\n",
    "for idx in range(0,len(volt_value)):\n",
    "    volt_value[idx] = volt_value[idx]/25*float(vdiv.replace('C1:VDIV ', '').replace('V\\n', ''))-float(ofst.replace('C1:OFST ', '').replace('V\\n', ''))\n",
    "    time_data = -(float(tdiv.replace('TDIV ', '').replace('S\\n', ''))*14/2)+idx*(1/float(sara.replace('SARA ', '').replace('GSa/s\\n', '')))\n",
    "    time_value.append(time_data)\n",
    "\n",
    "plt.plot(time_value, volt_value)\n",
    "plt.grid()\n",
    "#plt.xlim(180,2000)\n",
    "#plt.ylim(-0.1, 0.1)"
   ]
  },
  {
   "cell_type": "raw",
   "id": "bb18e6e5-1078-40b2-ad5c-7566eee7b56a",
   "metadata": {},
   "source": [
    "dso.encoding =  \"latin-1\"\n",
    "#dso.encoding =  \"utf8\"\n",
    "#dso.encoding =  \"utf-8\""
   ]
  },
  {
   "cell_type": "raw",
   "id": "6e9c3e84-0465-4f8d-9cce-7d864495eec4",
   "metadata": {},
   "source": [
    "dso.query(\"C1:WF?\")"
   ]
  },
  {
   "cell_type": "raw",
   "id": "41292f14-b1f3-42bc-8f22-c97fe2147533",
   "metadata": {},
   "source": [
    "dso.write(\"c1:wf?\")\n",
    "recv = list(dso.read_raw())"
   ]
  },
  {
   "cell_type": "raw",
   "id": "70ebee93-118e-4910-a435-2d83ecd67efa",
   "metadata": {},
   "source": [
    "plt.plot(recv)"
   ]
  },
  {
   "cell_type": "code",
   "execution_count": null,
   "id": "d2010eb7-2dd7-4ddd-b5c9-e54d7f02a783",
   "metadata": {},
   "outputs": [],
   "source": []
  },
  {
   "cell_type": "code",
   "execution_count": null,
   "id": "60c76fd4-9fce-492b-8996-f63ce3722a1c",
   "metadata": {},
   "outputs": [],
   "source": []
  },
  {
   "cell_type": "raw",
   "id": "be52535b-ce31-4a24-8576-06da46bbe868",
   "metadata": {},
   "source": [
    "sara_unit = {'G':1E9,'M':1E6,'k':1E3}\n",
    "for unit in sara_unit.keys():\n",
    "if\n",
    "sara.find(unit)!=-1:\n",
    "sara = sara.split(unit)\n",
    "sara = float(sara[0])*sara_unit[unit]\n",
    "break\n",
    "sara = float(sara)\n",
    "dso.timeout = 30000 #default value is 2000(2s)\n",
    "dso.chunk_size = 20*1024*1024 #default value is 20*1024(20k bytes)\n",
    "dso.write(\"c1:wf?\n",
    "recv = list(dso.read_raw())[15:]\n",
    "recv.pop()\n",
    "recv.pop()\n",
    "volt_value = []\n",
    "for\n",
    "data\n",
    "in\n",
    "recv:\n",
    "if\n",
    "data > 127:\n",
    "data = data - 255\n",
    "else:\n",
    "pass\n",
    "volt_value.append(data)\n",
    "time_value = []\n",
    "for\n",
    "idx\n",
    "in\n",
    "range(0,len(volt_value)):\n",
    "volt_value[idx] = volt_value[idx]/25*float(vdiv)-float(ofst)\n",
    "time_data = -(float(tdiv)*14/2)+idx*(1/sara)\n",
    "time_value.append(time_data)"
   ]
  },
  {
   "cell_type": "raw",
   "id": "28f9b9cb-ca4e-404e-bdfc-9db9eaf14bbe",
   "metadata": {},
   "source": [
    "import win32com.client #imports the pywin32 library\n",
    "scope=win32com.client.Dispatch(\"LeCroy.ActiveDSOCtrl.1\")  #creates instance of the ActiveDSO control"
   ]
  },
  {
   "cell_type": "code",
   "execution_count": null,
   "id": "a1eaacf8-3e44-4e41-a9fb-07816f14907f",
   "metadata": {},
   "outputs": [],
   "source": []
  }
 ],
 "metadata": {
  "kernelspec": {
   "display_name": "Python 3 (ipykernel)",
   "language": "python",
   "name": "python3"
  },
  "language_info": {
   "codemirror_mode": {
    "name": "ipython",
    "version": 3
   },
   "file_extension": ".py",
   "mimetype": "text/x-python",
   "name": "python",
   "nbconvert_exporter": "python",
   "pygments_lexer": "ipython3",
   "version": "3.9.13"
  }
 },
 "nbformat": 4,
 "nbformat_minor": 5
}
