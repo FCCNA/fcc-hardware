{
 "cells": [
  {
   "cell_type": "markdown",
   "id": "b9284c82-6c19-4708-b0cb-8e7660638147",
   "metadata": {},
   "source": [
    "##SIPM specifications:\n",
    "\n",
    "16  (4x4)\n",
    "\n",
    "S14161-6050HS-04\n",
    "\n",
    "https://www.hamamatsu.com/eu/en/product/optical-sensors/mppc/mppc_mppc-array/S14161-6050HS-04.html\n"
   ]
  },
  {
   "cell_type": "code",
   "execution_count": 1,
   "id": "1223d220-749d-455e-ae31-26856b4d63ec",
   "metadata": {
    "jupyter": {
     "source_hidden": true
    },
    "tags": []
   },
   "outputs": [
    {
     "ename": "ModuleNotFoundError",
     "evalue": "No module named 'ROOT'",
     "output_type": "error",
     "traceback": [
      "\u001b[1;31m---------------------------------------------------------------------------\u001b[0m",
      "\u001b[1;31mModuleNotFoundError\u001b[0m                       Traceback (most recent call last)",
      "\u001b[1;32m~\\AppData\\Local\\Temp\\ipykernel_21368\\1539664895.py\u001b[0m in \u001b[0;36m<module>\u001b[1;34m\u001b[0m\n\u001b[1;32m----> 1\u001b[1;33m \u001b[1;32mimport\u001b[0m \u001b[0mROOT\u001b[0m\u001b[1;33m\u001b[0m\u001b[1;33m\u001b[0m\u001b[0m\n\u001b[0m",
      "\u001b[1;31mModuleNotFoundError\u001b[0m: No module named 'ROOT'"
     ]
    }
   ],
   "source": []
  },
  {
   "cell_type": "code",
   "execution_count": null,
   "id": "dce7e354-b312-4fcf-9271-6f9cc1175a63",
   "metadata": {},
   "outputs": [],
   "source": [
    "import numpy as np\n",
    "\n",
    "from scipy.stats import binom\n",
    "\n",
    "def sipm():\n",
    "    def __self.init(nchan,cpc,eff_vs_length=1.0):\n",
    "        __self.nchannels=nchannels\n",
    "        __self.cells_per_channel=nchan\n",
    "        __self.eff_vs_length=wave_func\n",
    "        __self.totcells=nchan*cpc\n",
    "    def __self.photon_eff(lenght):\n",
    "        if(type(__self.eff_vs_length)==float):\n",
    "            return (__self.eff_vs_length*length)\n",
    "        else:\n",
    "            return (__self.eff_vs_length(length))\n",
    "    def __self.total_eff(nphotons,lenght):\n",
    "        totmeas=nphotons\n",
    "        if(nphotons>__self.totcells):\n",
    "            totmeas = __self.totcells/nphotons * __self.totcells #to fix\n",
    "        nmeas= __self.photon_eff(length)*totmeas\n",
    "       \n",
    "        "
   ]
  }
 ],
 "metadata": {
  "kernelspec": {
   "display_name": "Python 3 (ipykernel)",
   "language": "python",
   "name": "python3"
  },
  "language_info": {
   "codemirror_mode": {
    "name": "ipython",
    "version": 3
   },
   "file_extension": ".py",
   "mimetype": "text/x-python",
   "name": "python",
   "nbconvert_exporter": "python",
   "pygments_lexer": "ipython3",
   "version": "3.9.13"
  }
 },
 "nbformat": 4,
 "nbformat_minor": 5
}
