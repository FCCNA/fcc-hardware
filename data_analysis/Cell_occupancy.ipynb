{
 "cells": [
  {
   "cell_type": "markdown",
   "id": "b9284c82-6c19-4708-b0cb-8e7660638147",
   "metadata": {},
   "source": [
    "##SIPM specifications:\n",
    "\n",
    "16  (4x4)\n",
    "\n",
    "S14161-6050HS-04\n",
    "\n",
    "https://www.hamamatsu.com/eu/en/product/optical-sensors/mppc/mppc_mppc-array/S14161-6050HS-04.html\n"
   ]
  },
  {
   "cell_type": "code",
   "execution_count": null,
   "id": "1223d220-749d-455e-ae31-26856b4d63ec",
   "metadata": {
    "tags": []
   },
   "outputs": [],
   "source": []
  },
  {
   "cell_type": "code",
   "execution_count": 76,
   "id": "dce7e354-b312-4fcf-9271-6f9cc1175a63",
   "metadata": {},
   "outputs": [],
   "source": [
    "import numpy as np\n",
    "\n",
    "from scipy.stats import binom\n",
    "\n",
    "class sipm:\n",
    "    def __init__(self,nchan,cpc,eff_vs_length=1.0):\n",
    "        self.nchannels=nchan\n",
    "        self.cells_per_channel=cpc\n",
    "        self.eff_vs_length=eff_vs_length\n",
    "        self.totcells=nchan*cpc\n",
    "    def photon_eff(self,length):\n",
    "        if(type(self.eff_vs_length)==float):\n",
    "            return (self.eff_vs_length)\n",
    "        else:\n",
    "            return (self.eff_vs_length(length))\n",
    "    def total_meas(self,nphotons,length):\n",
    "        totmeas=nphotons\n",
    "        if(nphotons>self.totcells):\n",
    "            saturation_eff =(1/(1+np.exp(-nphotons/self.totcells))) #to fix\n",
    "            totmeas = saturation_eff * self.totcells #to fix\n",
    "        nmeas= self.photon_eff(length)*totmeas\n",
    "        return nmeas\n",
    "    \n",
    "        "
   ]
  },
  {
   "cell_type": "code",
   "execution_count": 75,
   "id": "c7c7b899-0077-48ba-968f-97c1cc055463",
   "metadata": {},
   "outputs": [
    {
     "name": "stdout",
     "output_type": "stream",
     "text": [
      "229296\n"
     ]
    },
    {
     "data": {
      "text/plain": [
       "0.0"
      ]
     },
     "execution_count": 75,
     "metadata": {},
     "output_type": "execute_result"
    }
   ],
   "source": [
    "sipm_bgo = sipm(16,14331)\n",
    "print(sipm_bgo.totcells)\n",
    "flength = lambda x:x*0.0004\n",
    "def flength_step(l):\n",
    "    if(l>270 and l < 900):\n",
    "        return 1\n",
    "    else:\n",
    "        return 0\n",
    "    \n",
    "sipm_bgo.total_meas(255000,flength_step(200))\n"
   ]
  },
  {
   "cell_type": "code",
   "execution_count": null,
   "id": "ffb2ccde-e561-47e7-b4c4-136f6f023f9f",
   "metadata": {},
   "outputs": [],
   "source": []
  }
 ],
 "metadata": {
  "kernelspec": {
   "display_name": "Python 3 (ipykernel)",
   "language": "python",
   "name": "python3"
  },
  "language_info": {
   "codemirror_mode": {
    "name": "ipython",
    "version": 3
   },
   "file_extension": ".py",
   "mimetype": "text/x-python",
   "name": "python",
   "nbconvert_exporter": "python",
   "pygments_lexer": "ipython3",
   "version": "3.9.13"
  }
 },
 "nbformat": 4,
 "nbformat_minor": 5
}
