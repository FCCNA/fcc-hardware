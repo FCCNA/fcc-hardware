{
 "cells": [
  {
   "cell_type": "code",
   "execution_count": null,
   "id": "e28e2dd9-f414-467c-b08b-7dfc4dfae1ce",
   "metadata": {},
   "outputs": [],
   "source": [
    "import pandas as pd\n",
    "import ROOT"
   ]
  },
  {
   "cell_type": "code",
   "execution_count": null,
   "id": "80c6548b-d4e5-4473-8097-0dba2d95ed94",
   "metadata": {},
   "outputs": [],
   "source": [
    "espe = ROOT.TFile.Open(\"espe.root\", \"RECREATE\")\n",
    "df = pd.read_csv('file', sep = \" \", skiprows=22)"
   ]
  },
  {
   "cell_type": "code",
   "execution_count": null,
   "id": "46908e9a-a771-4860-9cfe-b45e72c12d02",
   "metadata": {
    "scrolled": true
   },
   "outputs": [],
   "source": [
    "int_caen0=ROOT.TH1F(\"int_caen\", \"Integrale con FILTRO con preamplificatore CAEN gain 28\", 100, 00, 00)\n",
    "int_vecchio0=ROOT.TH1F(\"int_vecchio\", \"Integrale con preamplificatore vecchio SENZA FILTRO\", 100, 00, 00)\n",
    "\n",
    "int_caen=ROOT.TH1F(\"int_caen\", \"Integrale con FILTRO con preamplificatore CAEN gain 28\", 100, 10, 00)\n",
    "int_vecchio=ROOT.TH1F(\"int_vecchio\", \"Integrale con preamplificatore vecchio SENZA FILTRO\", 100, 00, -10)\n",
    "\n",
    "int_caen.Reset('ICES')\n",
    "int_vecchio.Reset('ICES')\n",
    "\n",
    "unique_frames = df['frame'].unique()\n",
    "for frame in unique_frames:\n",
    "    frame_data = df[df['frame'] == frame]\n",
    "    max_y1 = frame_data['C1'].max()\n",
    "    sum_y1 = frame_data['C1'].sum()\n",
    "    sum_y2 = frame_data['C2'].sum()\n",
    "    \n",
    "    int_caen0.Fill(sum_y1)\n",
    "    int_vecchio0.Fill(sum_y2)\n",
    "    int_caen.Fill(sum_y1)\n",
    "    int_vecchio.Fill(sum_y2)\n",
    "        \n",
    "c_integrale1=ROOT.TCanvas()\n",
    "c_integrale1.Draw()\n",
    "int_caen.Draw(\"\")\n",
    "\n",
    "c_integrale2=ROOT.TCanvas()\n",
    "c_integrale2.Draw()\n",
    "int_vecchio.Draw(\"\")"
   ]
  },
  {
   "cell_type": "code",
   "execution_count": null,
   "id": "bf0d7f1e-7150-4d39-9d56-5081923050fc",
   "metadata": {},
   "outputs": [],
   "source": [
    "carica0=int_caen0\n",
    "carica=int_caen\n",
    "vcarica0=int_vecchio0\n",
    "vcarica=int_vecchio\n",
    "\n",
    "espe.WriteObject(vcarica0, \"vcarica0\")\n",
    "espe.WriteObject(vcarica, \"vcarica\")\n",
    "espe.WriteObject(carica0, \"carica0\")\n",
    "espe.WriteObject(carica, \"carica\")\n"
   ]
  }
 ],
 "metadata": {
  "kernelspec": {
   "display_name": "fcc",
   "language": "python",
   "name": "fcc"
  },
  "language_info": {
   "codemirror_mode": {
    "name": "ipython",
    "version": 3
   },
   "file_extension": ".py",
   "mimetype": "text/x-python",
   "name": "python",
   "nbconvert_exporter": "python",
   "pygments_lexer": "ipython3",
   "version": "3.9.18"
  }
 },
 "nbformat": 4,
 "nbformat_minor": 5
}
