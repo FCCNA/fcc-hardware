{
 "cells": [
  {
   "cell_type": "code",
   "execution_count": null,
   "id": "a42be0b7-33b7-419c-a7e2-895a6d99a365",
   "metadata": {},
   "outputs": [],
   "source": [
    "import ROOT\n",
    "simul = ROOT.TFile.Open(\"simul.root\", \"RECREATE\")"
   ]
  },
  {
   "cell_type": "code",
   "execution_count": null,
   "id": "7c4259a5-a059-4731-8a8d-2dccd8cd113d",
   "metadata": {},
   "outputs": [],
   "source": [
    "import Classe\n",
    "import funz"
   ]
  },
  {
   "cell_type": "code",
   "execution_count": null,
   "id": "19324c2d-dd0f-4fe7-a5df-c9288e3c6162",
   "metadata": {
    "scrolled": true
   },
   "outputs": [],
   "source": [
    "#Scegli tempo, apparato e scintillatore\n",
    "time = 72\n",
    "sistema = Classe.sistema1\n",
    "scintillatore = Classe.BGO\n",
    "\n",
    "#Run\n",
    "muon_df=funz.run(sistema, scintillatore, time, filtro1 = 900, filtro2 = 900)"
   ]
  },
  {
   "cell_type": "code",
   "execution_count": null,
   "id": "93315e0b-ac93-41a9-bea3-ab0dcda72bd1",
   "metadata": {},
   "outputs": [],
   "source": [
    "\n",
    "carica0u = muon_df[0]\n",
    "carica0d=muon_df[1]\n",
    "caricau = muon_df[2]\n",
    "caricad=muon_df[3]\n",
    "\n",
    "\n",
    "simul.WriteObject(carica0d, \"carica0\")\n",
    "simul.WriteObject(caricad, \"carica\")\n",
    "\n",
    "simul.WriteObject(carica0u, \"vcarica0\")\n",
    "simul.WriteObject(caricau, \"vcarica\")\n"
   ]
  }
 ],
 "metadata": {
  "kernelspec": {
   "display_name": "fcc",
   "language": "python",
   "name": "fcc"
  },
  "language_info": {
   "codemirror_mode": {
    "name": "ipython",
    "version": 3
   },
   "file_extension": ".py",
   "mimetype": "text/x-python",
   "name": "python",
   "nbconvert_exporter": "python",
   "pygments_lexer": "ipython3",
   "version": "3.9.18"
  }
 },
 "nbformat": 4,
 "nbformat_minor": 5
}
